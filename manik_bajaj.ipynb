{
 "cells": [
  {
   "cell_type": "code",
   "execution_count": 99,
   "metadata": {
    "ExecuteTime": {
     "start_time": "2023-04-03T13:55:16.352668Z",
     "end_time": "2023-04-03T13:55:17.145572Z"
    }
   },
   "outputs": [
    {
     "data": {
      "text/plain": "        id  member_id  loan_amnt  funded_amnt  funded_amnt_inv        term  \\\n0  1077501    1296599       5000         5000           4975.0   36 months   \n1  1077430    1314167       2500         2500           2500.0   60 months   \n2  1077175    1313524       2400         2400           2400.0   36 months   \n3  1076863    1277178      10000        10000          10000.0   36 months   \n4  1075358    1311748       3000         3000           3000.0   60 months   \n\n  int_rate  installment grade sub_grade  ... num_tl_90g_dpd_24m  \\\n0   10.65%       162.87     B        B2  ...                NaN   \n1   15.27%        59.83     C        C4  ...                NaN   \n2   15.96%        84.33     C        C5  ...                NaN   \n3   13.49%       339.31     C        C1  ...                NaN   \n4   12.69%        67.79     B        B5  ...                NaN   \n\n  num_tl_op_past_12m pct_tl_nvr_dlq  percent_bc_gt_75 pub_rec_bankruptcies  \\\n0                NaN            NaN               NaN                  0.0   \n1                NaN            NaN               NaN                  0.0   \n2                NaN            NaN               NaN                  0.0   \n3                NaN            NaN               NaN                  0.0   \n4                NaN            NaN               NaN                  0.0   \n\n  tax_liens tot_hi_cred_lim total_bal_ex_mort total_bc_limit  \\\n0       0.0             NaN               NaN            NaN   \n1       0.0             NaN               NaN            NaN   \n2       0.0             NaN               NaN            NaN   \n3       0.0             NaN               NaN            NaN   \n4       0.0             NaN               NaN            NaN   \n\n  total_il_high_credit_limit  \n0                        NaN  \n1                        NaN  \n2                        NaN  \n3                        NaN  \n4                        NaN  \n\n[5 rows x 111 columns]",
      "text/html": "<div>\n<style scoped>\n    .dataframe tbody tr th:only-of-type {\n        vertical-align: middle;\n    }\n\n    .dataframe tbody tr th {\n        vertical-align: top;\n    }\n\n    .dataframe thead th {\n        text-align: right;\n    }\n</style>\n<table border=\"1\" class=\"dataframe\">\n  <thead>\n    <tr style=\"text-align: right;\">\n      <th></th>\n      <th>id</th>\n      <th>member_id</th>\n      <th>loan_amnt</th>\n      <th>funded_amnt</th>\n      <th>funded_amnt_inv</th>\n      <th>term</th>\n      <th>int_rate</th>\n      <th>installment</th>\n      <th>grade</th>\n      <th>sub_grade</th>\n      <th>...</th>\n      <th>num_tl_90g_dpd_24m</th>\n      <th>num_tl_op_past_12m</th>\n      <th>pct_tl_nvr_dlq</th>\n      <th>percent_bc_gt_75</th>\n      <th>pub_rec_bankruptcies</th>\n      <th>tax_liens</th>\n      <th>tot_hi_cred_lim</th>\n      <th>total_bal_ex_mort</th>\n      <th>total_bc_limit</th>\n      <th>total_il_high_credit_limit</th>\n    </tr>\n  </thead>\n  <tbody>\n    <tr>\n      <th>0</th>\n      <td>1077501</td>\n      <td>1296599</td>\n      <td>5000</td>\n      <td>5000</td>\n      <td>4975.0</td>\n      <td>36 months</td>\n      <td>10.65%</td>\n      <td>162.87</td>\n      <td>B</td>\n      <td>B2</td>\n      <td>...</td>\n      <td>NaN</td>\n      <td>NaN</td>\n      <td>NaN</td>\n      <td>NaN</td>\n      <td>0.0</td>\n      <td>0.0</td>\n      <td>NaN</td>\n      <td>NaN</td>\n      <td>NaN</td>\n      <td>NaN</td>\n    </tr>\n    <tr>\n      <th>1</th>\n      <td>1077430</td>\n      <td>1314167</td>\n      <td>2500</td>\n      <td>2500</td>\n      <td>2500.0</td>\n      <td>60 months</td>\n      <td>15.27%</td>\n      <td>59.83</td>\n      <td>C</td>\n      <td>C4</td>\n      <td>...</td>\n      <td>NaN</td>\n      <td>NaN</td>\n      <td>NaN</td>\n      <td>NaN</td>\n      <td>0.0</td>\n      <td>0.0</td>\n      <td>NaN</td>\n      <td>NaN</td>\n      <td>NaN</td>\n      <td>NaN</td>\n    </tr>\n    <tr>\n      <th>2</th>\n      <td>1077175</td>\n      <td>1313524</td>\n      <td>2400</td>\n      <td>2400</td>\n      <td>2400.0</td>\n      <td>36 months</td>\n      <td>15.96%</td>\n      <td>84.33</td>\n      <td>C</td>\n      <td>C5</td>\n      <td>...</td>\n      <td>NaN</td>\n      <td>NaN</td>\n      <td>NaN</td>\n      <td>NaN</td>\n      <td>0.0</td>\n      <td>0.0</td>\n      <td>NaN</td>\n      <td>NaN</td>\n      <td>NaN</td>\n      <td>NaN</td>\n    </tr>\n    <tr>\n      <th>3</th>\n      <td>1076863</td>\n      <td>1277178</td>\n      <td>10000</td>\n      <td>10000</td>\n      <td>10000.0</td>\n      <td>36 months</td>\n      <td>13.49%</td>\n      <td>339.31</td>\n      <td>C</td>\n      <td>C1</td>\n      <td>...</td>\n      <td>NaN</td>\n      <td>NaN</td>\n      <td>NaN</td>\n      <td>NaN</td>\n      <td>0.0</td>\n      <td>0.0</td>\n      <td>NaN</td>\n      <td>NaN</td>\n      <td>NaN</td>\n      <td>NaN</td>\n    </tr>\n    <tr>\n      <th>4</th>\n      <td>1075358</td>\n      <td>1311748</td>\n      <td>3000</td>\n      <td>3000</td>\n      <td>3000.0</td>\n      <td>60 months</td>\n      <td>12.69%</td>\n      <td>67.79</td>\n      <td>B</td>\n      <td>B5</td>\n      <td>...</td>\n      <td>NaN</td>\n      <td>NaN</td>\n      <td>NaN</td>\n      <td>NaN</td>\n      <td>0.0</td>\n      <td>0.0</td>\n      <td>NaN</td>\n      <td>NaN</td>\n      <td>NaN</td>\n      <td>NaN</td>\n    </tr>\n  </tbody>\n</table>\n<p>5 rows × 111 columns</p>\n</div>"
     },
     "execution_count": 99,
     "metadata": {},
     "output_type": "execute_result"
    }
   ],
   "source": [
    "# Importing core libraries required for the case study\n",
    "import numpy as np\n",
    "import pandas as pd\n",
    "import matplotlib.pyplot as plot\n",
    "import seaborn as sea\n",
    "import datetime as dt\n",
    "import warnings\n",
    "\n",
    "loan = pd.read_csv('./dataset/loan.csv', low_memory=False)\n",
    "\n",
    "loan.head()"
   ]
  },
  {
   "cell_type": "markdown",
   "source": [
    "# Data Dictionary Review\n",
    "Loading all data dictionary values"
   ],
   "metadata": {
    "collapsed": false
   }
  },
  {
   "cell_type": "code",
   "execution_count": 100,
   "outputs": [
    {
     "data": {
      "text/plain": "               LoanStatNew                                        Description  \\\n0           acc_now_delinq  The number of accounts on which the borrower i...   \n1     acc_open_past_24mths         Number of trades opened in past 24 months.   \n2               addr_state  The state provided by the borrower in the loan...   \n3                 all_util              Balance to credit limit on all trades   \n4               annual_inc  The self-reported annual income provided by th...   \n..                     ...                                                ...   \n112    verification_status  Indicates if income was verified by LC, not ve...   \n113  verified_status_joint  Indicates if the co-borrowers' joint income wa...   \n114               zip_code  The first 3 numbers of the zip code provided b...   \n115                    NaN                                                NaN   \n116                    NaN  * Employer Title replaces Employer Name for al...   \n\n     Status  \n0       NaN  \n1       NaN  \n2       NaN  \n3       NaN  \n4       NaN  \n..      ...  \n112     NaN  \n113     NaN  \n114     NaN  \n115     NaN  \n116     NaN  \n\n[117 rows x 3 columns]",
      "text/html": "<div>\n<style scoped>\n    .dataframe tbody tr th:only-of-type {\n        vertical-align: middle;\n    }\n\n    .dataframe tbody tr th {\n        vertical-align: top;\n    }\n\n    .dataframe thead th {\n        text-align: right;\n    }\n</style>\n<table border=\"1\" class=\"dataframe\">\n  <thead>\n    <tr style=\"text-align: right;\">\n      <th></th>\n      <th>LoanStatNew</th>\n      <th>Description</th>\n      <th>Status</th>\n    </tr>\n  </thead>\n  <tbody>\n    <tr>\n      <th>0</th>\n      <td>acc_now_delinq</td>\n      <td>The number of accounts on which the borrower i...</td>\n      <td>NaN</td>\n    </tr>\n    <tr>\n      <th>1</th>\n      <td>acc_open_past_24mths</td>\n      <td>Number of trades opened in past 24 months.</td>\n      <td>NaN</td>\n    </tr>\n    <tr>\n      <th>2</th>\n      <td>addr_state</td>\n      <td>The state provided by the borrower in the loan...</td>\n      <td>NaN</td>\n    </tr>\n    <tr>\n      <th>3</th>\n      <td>all_util</td>\n      <td>Balance to credit limit on all trades</td>\n      <td>NaN</td>\n    </tr>\n    <tr>\n      <th>4</th>\n      <td>annual_inc</td>\n      <td>The self-reported annual income provided by th...</td>\n      <td>NaN</td>\n    </tr>\n    <tr>\n      <th>...</th>\n      <td>...</td>\n      <td>...</td>\n      <td>...</td>\n    </tr>\n    <tr>\n      <th>112</th>\n      <td>verification_status</td>\n      <td>Indicates if income was verified by LC, not ve...</td>\n      <td>NaN</td>\n    </tr>\n    <tr>\n      <th>113</th>\n      <td>verified_status_joint</td>\n      <td>Indicates if the co-borrowers' joint income wa...</td>\n      <td>NaN</td>\n    </tr>\n    <tr>\n      <th>114</th>\n      <td>zip_code</td>\n      <td>The first 3 numbers of the zip code provided b...</td>\n      <td>NaN</td>\n    </tr>\n    <tr>\n      <th>115</th>\n      <td>NaN</td>\n      <td>NaN</td>\n      <td>NaN</td>\n    </tr>\n    <tr>\n      <th>116</th>\n      <td>NaN</td>\n      <td>* Employer Title replaces Employer Name for al...</td>\n      <td>NaN</td>\n    </tr>\n  </tbody>\n</table>\n<p>117 rows × 3 columns</p>\n</div>"
     },
     "execution_count": 100,
     "metadata": {},
     "output_type": "execute_result"
    }
   ],
   "source": [
    "dict = pd.read_excel('./dataset/Data_Dictionary.csv')\n",
    "dict"
   ],
   "metadata": {
    "collapsed": false,
    "ExecuteTime": {
     "start_time": "2023-04-03T13:55:17.145943Z",
     "end_time": "2023-04-03T13:55:17.248227Z"
    }
   }
  },
  {
   "cell_type": "markdown",
   "source": [
    "# Data Cleaning and Manipulation\n",
    "Aiming to clean and manipulate the data to finally reach a data form where we can work with the data. Will wilcude the following steps while cleaning and manipulating data.\n",
    "1. Find the number of columns which do not have any data.\n",
    "2. Drop unwanted and duplicate rows.\n",
    "3. Dropping text/description columns which will not contribute to overall analysis\n",
    "4. Dropping column sub_grade as the current analysis will limit to Grade only\n",
    "5. Dropping all columns which refer to behavioural data of customer post loan approval\n",
    "6. Dropping columns which is unique id in nature. They dont contribute to loan analysis\n",
    "7. Dropping all columns where all the values are NA\n",
    "8. Dropping all columns with all zero values\n",
    "9. Drop all columns who have constant values (ignoring NA value)\n",
    "10. Drop the column if the amount of empty values is more than 65%\n"
   ],
   "metadata": {
    "collapsed": false
   }
  },
  {
   "cell_type": "markdown",
   "source": [
    "## Getting the summary of all columns which contain null values\n",
    "Print summary of Nulls, Blanks in the dataset the ine form a percentage value."
   ],
   "metadata": {
    "collapsed": false
   }
  },
  {
   "cell_type": "code",
   "execution_count": 101,
   "metadata": {
    "ExecuteTime": {
     "start_time": "2023-04-03T13:55:17.178720Z",
     "end_time": "2023-04-03T13:55:17.306649Z"
    }
   },
   "outputs": [
    {
     "data": {
      "text/plain": "id                              0.000000\nmember_id                       0.000000\nloan_amnt                       0.000000\nfunded_amnt                     0.000000\nfunded_amnt_inv                 0.000000\n                                 ...    \ntax_liens                       0.098195\ntot_hi_cred_lim               100.000000\ntotal_bal_ex_mort             100.000000\ntotal_bc_limit                100.000000\ntotal_il_high_credit_limit    100.000000\nLength: 111, dtype: float64"
     },
     "execution_count": 101,
     "metadata": {},
     "output_type": "execute_result"
    }
   ],
   "source": [
    "(loan.isnull().sum() / len(loan.index) * 100)"
   ]
  },
  {
   "cell_type": "markdown",
   "source": [
    "## Removing All Rows With loan_status = \"Current\"\n",
    "Loan Status - Key Leading Attribute (loan_status). The column has three distinct values\n",
    "- Fully-Paid - The customer has successfuly paid the loan\n",
    "- Charged-Off - The customer is \"Charged-Off\" ir has \"Defaulted\"\n",
    "- Current - These customers, the loan is currently in progress and cannot contribute to conclusive evidence if the customer will default of pay in future\n",
    "**For the given case study, \"Current\" status rows will be ignored**"
   ],
   "metadata": {
    "collapsed": false
   }
  },
  {
   "cell_type": "markdown",
   "source": [],
   "metadata": {
    "collapsed": false
   }
  },
  {
   "cell_type": "code",
   "execution_count": 102,
   "outputs": [
    {
     "name": "stdout",
     "output_type": "stream",
     "text": [
      "38577\n",
      "39717\n",
      "Number of rows dropped where loan_status = 'Current': 1140\n",
      "Percentage of rows dropped =  2.87 %\n"
     ]
    }
   ],
   "source": [
    "prev_rows = len(loan)\n",
    "# The rows where loan_stats=Current are the data where the loan repayment is currently in progress\n",
    "# The loans which are currently in progress will not contribute to decisions\n",
    "# of default or pass as it's difficult to predict the outcome\n",
    "#\n",
    "# Dropping the rows early as, dropping all Current rows introduces NA columns which can be easily dropped\n",
    "loan = loan[loan['loan_status'] != \"Current\"]\n",
    "\n",
    "# Print current data statistics after dropping rows with loan_status \"CURRENT\"\n",
    "curr_rows = len(loan)\n",
    "print(curr_rows)\n",
    "print(prev_rows)\n",
    "\n",
    "print(\"Number of rows dropped where loan_status = 'Current':\", (prev_rows - curr_rows))\n",
    "print(\"Percentage of rows dropped = \", round((prev_rows - curr_rows) / prev_rows * 100, 2), \"%\")"
   ],
   "metadata": {
    "collapsed": false,
    "ExecuteTime": {
     "start_time": "2023-04-03T13:55:17.286782Z",
     "end_time": "2023-04-03T13:55:17.352645Z"
    }
   }
  },
  {
   "cell_type": "markdown",
   "source": [
    "### Find any duplicate rows in the dataset"
   ],
   "metadata": {
    "collapsed": false
   }
  },
  {
   "cell_type": "code",
   "execution_count": 103,
   "outputs": [
    {
     "name": "stdout",
     "output_type": "stream",
     "text": [
      "Duplicate Rows:  0\n",
      "No action needed\n"
     ]
    }
   ],
   "source": [
    "duplicate_rows = len(loan[loan.duplicated()])\n",
    "if duplicate_rows <= 0:\n",
    "    print(\"Duplicate Rows: \", duplicate_rows)\n",
    "    print(\"No action needed\")\n",
    "else:\n",
    "    print(len(duplicate_rows))"
   ],
   "metadata": {
    "collapsed": false,
    "ExecuteTime": {
     "start_time": "2023-04-03T13:55:17.301561Z",
     "end_time": "2023-04-03T13:55:17.428335Z"
    }
   }
  },
  {
   "cell_type": "markdown",
   "source": [
    "### Dropping Columns That Have ID Values\n",
    "Dropping columns which is unique id in nature. They dont contribute to loan analysis"
   ],
   "metadata": {
    "collapsed": false
   }
  },
  {
   "cell_type": "code",
   "execution_count": 104,
   "outputs": [
    {
     "name": "stdout",
     "output_type": "stream",
     "text": [
      "member_id is unique, can be dropped\n",
      "id is unique, can be dropped\n"
     ]
    }
   ],
   "source": [
    "# Checking if member_id is unique\n",
    "if len(loan['member_id'].unique()) == loan.shape[0]:\n",
    "    print(\"member_id is unique, can be dropped\")\n",
    "    loan = loan.drop(['member_id'], axis=1)\n",
    "else:\n",
    "    print(\"member_id is not unique, dont drop\")\n",
    "\n",
    "# Checking if id is unique\n",
    "if len(loan['id'].unique()) == loan.shape[0]:\n",
    "    print(\"id is unique, can be dropped\")\n",
    "    # not dropping id as it will be used for pivot calculation later\n",
    "    # loan = loan.drop(['id'],  axis=1)\n",
    "else:\n",
    "    print(\"id is not unique, dont drop\")"
   ],
   "metadata": {
    "collapsed": false,
    "ExecuteTime": {
     "start_time": "2023-04-03T13:55:17.424945Z",
     "end_time": "2023-04-03T13:55:17.499142Z"
    }
   }
  },
  {
   "cell_type": "markdown",
   "source": [
    "### Dropping text/description columns which will not contribute to overall analysis\n",
    "These are names of establishment etc which will not contribute to loan pass or failure. The URL column is a static link with id as the attribute. It's a redundant column"
   ],
   "metadata": {
    "collapsed": false
   }
  },
  {
   "cell_type": "code",
   "execution_count": 105,
   "outputs": [],
   "source": [
    "loan = loan.drop(['url', 'emp_title', 'desc', 'title'], axis=1)"
   ],
   "metadata": {
    "collapsed": false,
    "ExecuteTime": {
     "start_time": "2023-04-03T13:55:17.462793Z",
     "end_time": "2023-04-03T13:55:17.527587Z"
    }
   }
  },
  {
   "cell_type": "markdown",
   "source": [
    "### Dropping column sub_grade as the current analysis will limit to Grade only"
   ],
   "metadata": {
    "collapsed": false
   }
  },
  {
   "cell_type": "code",
   "execution_count": 106,
   "outputs": [],
   "source": [
    "loan = loan.drop(['sub_grade'], axis=1)"
   ],
   "metadata": {
    "collapsed": false,
    "ExecuteTime": {
     "start_time": "2023-04-03T13:55:17.468499Z",
     "end_time": "2023-04-03T13:55:17.527952Z"
    }
   }
  },
  {
   "cell_type": "markdown",
   "source": [
    "### Dropping all columns which refer to behavioural data of customer post loan approval\n",
    "Behaviour data of the customers are captured post the loan approval. The data is not available at the time of loan approval and thus cannot be used for calculations"
   ],
   "metadata": {
    "collapsed": false
   }
  },
  {
   "cell_type": "code",
   "execution_count": 107,
   "outputs": [],
   "source": [
    "loan = loan.drop(['delinq_2yrs', 'earliest_cr_line',\n",
    "                  'inq_last_6mths', 'open_acc', 'pub_rec',\n",
    "                  'revol_bal', 'revol_util', 'total_acc',\n",
    "                  'out_prncp', 'out_prncp_inv', 'total_pymnt',\n",
    "                  'total_pymnt_inv', 'total_rec_prncp',\n",
    "                  'total_rec_int', 'total_rec_late_fee', 'recoveries',\n",
    "                  'collection_recovery_fee', 'last_pymnt_d',\n",
    "                  'last_pymnt_amnt', 'last_credit_pull_d',\n",
    "                  'application_type'], axis=1)"
   ],
   "metadata": {
    "collapsed": false,
    "ExecuteTime": {
     "start_time": "2023-04-03T13:55:17.485783Z",
     "end_time": "2023-04-03T13:55:17.528030Z"
    }
   }
  },
  {
   "cell_type": "markdown",
   "source": [
    "### Dropping all columns whose all the values are NA\n",
    "Print all NA columns for verification"
   ],
   "metadata": {
    "collapsed": false
   }
  },
  {
   "cell_type": "code",
   "execution_count": 108,
   "outputs": [
    {
     "name": "stdout",
     "output_type": "stream",
     "text": [
      "Total columns with values NA:  55 \n",
      "\n",
      "\n",
      "Columns with all values as NA\n",
      " ['next_pymnt_d', 'mths_since_last_major_derog', 'annual_inc_joint', 'dti_joint', 'verification_status_joint', 'tot_coll_amt', 'tot_cur_bal', 'open_acc_6m', 'open_il_6m', 'open_il_12m', 'open_il_24m', 'mths_since_rcnt_il', 'total_bal_il', 'il_util', 'open_rv_12m', 'open_rv_24m', 'max_bal_bc', 'all_util', 'total_rev_hi_lim', 'inq_fi', 'total_cu_tl', 'inq_last_12m', 'acc_open_past_24mths', 'avg_cur_bal', 'bc_open_to_buy', 'bc_util', 'mo_sin_old_il_acct', 'mo_sin_old_rev_tl_op', 'mo_sin_rcnt_rev_tl_op', 'mo_sin_rcnt_tl', 'mort_acc', 'mths_since_recent_bc', 'mths_since_recent_bc_dlq', 'mths_since_recent_inq', 'mths_since_recent_revol_delinq', 'num_accts_ever_120_pd', 'num_actv_bc_tl', 'num_actv_rev_tl', 'num_bc_sats', 'num_bc_tl', 'num_il_tl', 'num_op_rev_tl', 'num_rev_accts', 'num_rev_tl_bal_gt_0', 'num_sats', 'num_tl_120dpd_2m', 'num_tl_30dpd', 'num_tl_90g_dpd_24m', 'num_tl_op_past_12m', 'pct_tl_nvr_dlq', 'percent_bc_gt_75', 'tot_hi_cred_lim', 'total_bal_ex_mort', 'total_bc_limit', 'total_il_high_credit_limit']\n"
     ]
    }
   ],
   "source": [
    "print(\"Total columns with values NA: \", len(loan.columns[loan.isna().all()].tolist()),\"\\n\\n\")\n",
    "print(\"Columns with all values as NA\\n\", loan.columns[loan.isna().all()].tolist())\n",
    "\n",
    "# Dropping all the columns whose all the records are NaN or Null\n",
    "loan = loan.dropna(axis='columns', how=\"all\")"
   ],
   "metadata": {
    "collapsed": false,
    "ExecuteTime": {
     "start_time": "2023-04-03T13:55:17.497145Z",
     "end_time": "2023-04-03T13:55:17.677180Z"
    }
   }
  },
  {
   "cell_type": "markdown",
   "source": [
    "### Dropping all columns with all zero values"
   ],
   "metadata": {
    "collapsed": false
   }
  },
  {
   "cell_type": "code",
   "execution_count": 109,
   "outputs": [],
   "source": [
    "loan = loan.loc[:, (loan != 0).any(axis=0)]"
   ],
   "metadata": {
    "collapsed": false,
    "ExecuteTime": {
     "start_time": "2023-04-03T13:55:17.678574Z",
     "end_time": "2023-04-03T13:55:17.732564Z"
    }
   }
  },
  {
   "cell_type": "markdown",
   "source": [
    "### Function to Drop all columns who have constant values (ignoring NA value)\n",
    "- Example most of the columns is 1 and rest is NA, the column will be dropped\n",
    "- If we have 1,2 and NA, the column wont be dropped"
   ],
   "metadata": {
    "collapsed": false
   }
  },
  {
   "cell_type": "code",
   "execution_count": 110,
   "outputs": [
    {
     "name": "stdout",
     "output_type": "stream",
     "text": [
      "Columns with constant values with or without NA\n",
      "pymnt_plan\n",
      "initial_list_status\n",
      "collections_12_mths_ex_med\n",
      "policy_code\n",
      "chargeoff_within_12_mths\n",
      "tax_liens\n"
     ]
    }
   ],
   "source": [
    "print(\"Columns with constant values with or without NA\")\n",
    "def drop_constant_columns(df):\n",
    "    for c in df.columns:\n",
    "        if df[c].nunique(dropna=True) == 1:\n",
    "            print(c)\n",
    "            df = df.drop(c, axis=1)\n",
    "    return df\n",
    "\n",
    "# Drop all constant columns from df1 (definition of constant is constant value across the rows, this ignores Na values)\n",
    "loan = drop_constant_columns(loan)"
   ],
   "metadata": {
    "collapsed": false,
    "ExecuteTime": {
     "start_time": "2023-04-03T13:55:17.720593Z",
     "end_time": "2023-04-03T13:55:17.772048Z"
    }
   }
  },
  {
   "cell_type": "markdown",
   "source": [
    "### Drop Columns With More Than 65% Empty Values\n",
    "Function `drop_mostly_empty_columns` which checks the amount of empty values in a dataframe and drops the column if the amount of empty values is more than 65%. 60% is the threshhold percentage which decides imputing vs dropping."
   ],
   "metadata": {
    "collapsed": false
   }
  },
  {
   "cell_type": "code",
   "execution_count": 111,
   "outputs": [
    {
     "name": "stdout",
     "output_type": "stream",
     "text": [
      "Columns with more that 65% empty records\n",
      "mths_since_last_delinq\n",
      "mths_since_last_record\n"
     ]
    }
   ],
   "source": [
    "print(\"Columns with more that 65% empty records\")\n",
    "def drop_mostly_empty_columns(df):\n",
    "    total_rows = len(df)\n",
    "    for c in df.columns:\n",
    "        # Drop columns whose mean na values exceed 65%\n",
    "        if df[c].isna().mean().round(2) >= 0.65:\n",
    "            print(c)\n",
    "            df = df.drop(c, axis=1)\n",
    "    return df\n",
    "loan = drop_mostly_empty_columns(loan)"
   ],
   "metadata": {
    "collapsed": false,
    "ExecuteTime": {
     "start_time": "2023-04-03T13:55:17.778034Z",
     "end_time": "2023-04-03T13:55:17.816475Z"
    }
   }
  },
  {
   "cell_type": "markdown",
   "source": [
    "# Data Conversion\n",
    "Since we have removed unwanted data from the dataset now we can focus on data conversion. During this process we will focus on the following:\n",
    "1. Converting columns to floats where needed.\n",
    "2. Converting required columns to integers if they can be converted and exist as strings in dataset.\n",
    "3. Round off any values in the columns which have floating point values with more than 2 decimal places.\n",
    "4. Convert the columns loan_amnt and funded_amnt as flot64\n",
    "5. Convert the term column into an integer from a string\n",
    "6. Convert int_rate to  float by removing the \"%\" character\n",
    "7. Round off the values of key float fields to 2 decimal place\n",
    "8. Converting the loan_status to boolean column. \"Fully-Paid is True and Charged Off is False\"\n",
    "9. Converting the column issue_d from string object to DateTime"
   ],
   "metadata": {
    "collapsed": false
   }
  },
  {
   "cell_type": "markdown",
   "source": [
    "#### Convert the columns loan_amnt and funded_amnt as float64"
   ],
   "metadata": {
    "collapsed": false
   }
  },
  {
   "cell_type": "code",
   "execution_count": 112,
   "outputs": [],
   "source": [
    "loan = loan.astype({'loan_amnt':'float','funded_amnt':'float'})"
   ],
   "metadata": {
    "collapsed": false,
    "ExecuteTime": {
     "start_time": "2023-04-03T13:55:17.806051Z",
     "end_time": "2023-04-03T13:55:17.816619Z"
    }
   }
  },
  {
   "cell_type": "markdown",
   "source": [
    "#### Convert the term column into an integer from a string"
   ],
   "metadata": {
    "collapsed": false
   }
  },
  {
   "cell_type": "code",
   "execution_count": 113,
   "outputs": [],
   "source": [
    "loan['term'] = loan['term'].apply(lambda x : int(x[:-7]))"
   ],
   "metadata": {
    "collapsed": false,
    "ExecuteTime": {
     "start_time": "2023-04-03T13:55:17.823307Z",
     "end_time": "2023-04-03T13:55:17.824727Z"
    }
   }
  },
  {
   "cell_type": "markdown",
   "source": [
    "#### Convert int_rate to  float by removing the \"%\" character"
   ],
   "metadata": {
    "collapsed": false
   }
  },
  {
   "cell_type": "code",
   "execution_count": 114,
   "outputs": [],
   "source": [
    "loan['int_rate'] = loan['int_rate'].apply(lambda x : float(x[:-1]))"
   ],
   "metadata": {
    "collapsed": false,
    "ExecuteTime": {
     "start_time": "2023-04-03T13:55:17.838021Z",
     "end_time": "2023-04-03T13:55:17.862590Z"
    }
   }
  },
  {
   "cell_type": "markdown",
   "source": [
    "#### Round off the values of key float fields to 2 decimal place"
   ],
   "metadata": {
    "collapsed": false
   }
  },
  {
   "cell_type": "code",
   "execution_count": 115,
   "outputs": [
    {
     "name": "stdout",
     "output_type": "stream",
     "text": [
      "Rounding columns to 2 decimal places\n",
      "loan_amnt\n",
      "funded_amnt\n",
      "funded_amnt_inv\n",
      "int_rate\n",
      "dti\n"
     ]
    }
   ],
   "source": [
    "print(\"Rounding columns to 2 decimal places\")\n",
    "for c in ['loan_amnt', 'funded_amnt', 'funded_amnt_inv', 'int_rate', 'dti']:\n",
    "    print(c)\n",
    "    loan[c] = loan[c].apply(lambda x: round(x,2))"
   ],
   "metadata": {
    "collapsed": false,
    "ExecuteTime": {
     "start_time": "2023-04-03T13:55:17.913115Z",
     "end_time": "2023-04-03T13:55:17.928898Z"
    }
   }
  },
  {
   "cell_type": "markdown",
   "source": [
    "#### Converting the loan_status to boolean column.\n",
    "\"Fully-Paid is True and Charged Off is False\"\n",
    "- Added a function instead of lambda because, if this is accidentally re-run on a boolean column, the logic broke\n",
    "- Now it will only convert to boolean if the column is a string and has the two specific values"
   ],
   "metadata": {
    "collapsed": false
   }
  },
  {
   "cell_type": "code",
   "execution_count": 116,
   "outputs": [],
   "source": [
    "def convert_loan_status_to_boolean(x):\n",
    "    if x == \"Fully Paid\":\n",
    "        return True\n",
    "    elif x == \"Charged Off\":\n",
    "        return False\n",
    "    else:\n",
    "        return x"
   ],
   "metadata": {
    "collapsed": false,
    "ExecuteTime": {
     "start_time": "2023-04-03T13:55:17.925774Z",
     "end_time": "2023-04-03T13:55:17.929037Z"
    }
   }
  },
  {
   "cell_type": "code",
   "execution_count": 117,
   "outputs": [],
   "source": [
    "# Converting the column issue_d from string object to DateTime\n",
    "loan['issue_d'] = pd.to_datetime(loan['issue_d'], format='%b-%y')"
   ],
   "metadata": {
    "collapsed": false,
    "ExecuteTime": {
     "start_time": "2023-04-03T13:55:17.931791Z",
     "end_time": "2023-04-03T13:55:17.935320Z"
    }
   }
  },
  {
   "cell_type": "markdown",
   "source": [
    "### Deciding to Impute Or Drop Columns\n",
    "Evaluating the percentage of rows with blank values for both the columns. If the total percentage is less than 5% will take an option of dropping the columns vs imputing."
   ],
   "metadata": {
    "collapsed": false
   }
  },
  {
   "cell_type": "code",
   "execution_count": 118,
   "outputs": [
    {
     "name": "stdout",
     "output_type": "stream",
     "text": [
      "emp_length blank rows 1033\n",
      "pub_rec_bankruptcies blank rows 697 \n",
      "\n",
      "emp_length 2.68 %\n",
      "pub_rec_bankruptcies 1.81 %\n",
      "\n",
      "Total rows percentage whose columns are blank:  4.48 %\n"
     ]
    }
   ],
   "source": [
    "# Identify columns who have blank values and what percentage of total values are there blanks.\n",
    "# These values may need to be imputed\n",
    "print('emp_length blank rows', loan['emp_length'].isna().sum())\n",
    "print('pub_rec_bankruptcies blank rows', loan['pub_rec_bankruptcies'].isna().sum(), \"\\n\")\n",
    "imp_total = 0\n",
    "for c in loan.columns[loan.isna().any()].tolist():\n",
    "    imp_val = len(loan[loan[c].isna()]) / len(loan) * 100\n",
    "    imp_total += imp_val\n",
    "    print(c, round(imp_val, 2),\"%\")\n",
    "print(\"\\nTotal rows percentage whose columns are blank: \", round(imp_total ,2), \"%\")"
   ],
   "metadata": {
    "collapsed": false,
    "ExecuteTime": {
     "start_time": "2023-04-03T13:55:17.939772Z",
     "end_time": "2023-04-03T13:55:17.979046Z"
    }
   }
  },
  {
   "cell_type": "markdown",
   "source": [
    "#### Converting emp_length to integer values\n",
    "Converting emp_length as numerical data to create more effective statistical analysis as compared to nominal values\n"
   ],
   "metadata": {
    "collapsed": false
   }
  },
  {
   "cell_type": "code",
   "execution_count": 119,
   "outputs": [],
   "source": [
    "loan['emp_length'] = loan['emp_length'].replace({'< 1 year': 0, '2 years': 2, '3 years': 3,\n",
    "                                                 '7 years': 7, '4 years': 4, '5 years': 5,\n",
    "                                                 '1 year': 1, '6 years': 6, '8 years': 8,\n",
    "                                                 '9 years': 9,  '10+ years': 10})"
   ],
   "metadata": {
    "collapsed": false,
    "ExecuteTime": {
     "start_time": "2023-04-03T13:55:17.982387Z",
     "end_time": "2023-04-03T13:55:18.017635Z"
    }
   }
  },
  {
   "cell_type": "code",
   "execution_count": 120,
   "outputs": [],
   "source": [
    "# Save the current dimensions of the dataframe in a variable rows_before\n",
    "rows_before = len(loan)"
   ],
   "metadata": {
    "collapsed": false,
    "ExecuteTime": {
     "start_time": "2023-04-03T13:55:18.003522Z",
     "end_time": "2023-04-03T13:55:18.023184Z"
    }
   }
  },
  {
   "cell_type": "markdown",
   "source": [
    "# Drop rows with empty values in this scenario\n",
    "Since the percent of rows is very small, dropping the rows instead of imputing them"
   ],
   "metadata": {
    "collapsed": false
   }
  },
  {
   "cell_type": "code",
   "execution_count": 121,
   "outputs": [
    {
     "data": {
      "text/plain": "10.0    8369\n0.0     4341\n2.0     4207\n3.0     3951\n4.0     3297\n5.0     3161\n1.0     3077\n6.0     2136\n7.0     1689\n8.0     1410\n9.0     1209\nName: emp_length, dtype: int64"
     },
     "execution_count": 121,
     "metadata": {},
     "output_type": "execute_result"
    }
   ],
   "source": [
    "loan = loan[loan['emp_length'].notna()]\n",
    "loan = loan[loan['pub_rec_bankruptcies'].notna()]\n",
    "\n",
    "# Checking if blanks exist\n",
    "loan['emp_length'].value_counts()"
   ],
   "metadata": {
    "collapsed": false,
    "ExecuteTime": {
     "start_time": "2023-04-03T13:55:18.007446Z",
     "end_time": "2023-04-03T13:55:18.023432Z"
    }
   }
  },
  {
   "cell_type": "code",
   "execution_count": 122,
   "outputs": [
    {
     "name": "stdout",
     "output_type": "stream",
     "text": [
      "Number of rows dropped = , 1730\n",
      "Percentage of rows dropped =  4.48 %\n",
      "(36847, 19)\n"
     ]
    }
   ],
   "source": [
    "# Print the dimensions of the dataframe after dropping rows\n",
    "rows_after = len(loan)\n",
    "print(\"Number of rows dropped = ,\", (rows_before - rows_after))\n",
    "print(\"Percentage of rows dropped = \", round((rows_before - rows_after)/rows_before*100,2),\"%\")\n",
    "print(loan.shape)"
   ],
   "metadata": {
    "collapsed": false,
    "ExecuteTime": {
     "start_time": "2023-04-03T13:55:18.018283Z",
     "end_time": "2023-04-03T13:55:18.023513Z"
    }
   }
  },
  {
   "cell_type": "markdown",
   "source": [
    "## Deriving Additional Columns\n",
    "Adding additional column for Year and Month for analysis extracting Year and Month from issue_d"
   ],
   "metadata": {
    "collapsed": false
   }
  },
  {
   "cell_type": "code",
   "execution_count": 123,
   "outputs": [],
   "source": [
    "loan['issue_y'] = pd.DatetimeIndex(loan['issue_d']).year\n",
    "loan['issue_m'] = pd.DatetimeIndex(loan['issue_d']).month"
   ],
   "metadata": {
    "collapsed": false,
    "ExecuteTime": {
     "start_time": "2023-04-03T13:55:18.022839Z",
     "end_time": "2023-04-03T13:55:18.026839Z"
    }
   }
  },
  {
   "cell_type": "code",
   "execution_count": 124,
   "outputs": [],
   "source": [
    "# Diving Months to quarters\n",
    "def bucket_issue_m(column):\n",
    "    if column < 4:\n",
    "        return 'Q1'\n",
    "    elif (column >= 4) and (column < 7):\n",
    "        return 'Q2'\n",
    "    elif (column >= 7) and (column < 9):\n",
    "        return 'Q3'\n",
    "    else:\n",
    "        return 'Q4' # 75% quartile\n",
    "\n",
    "loan['issue_q'] = loan.apply(lambda x : bucket_issue_m(x['issue_m']), axis = 1)"
   ],
   "metadata": {
    "collapsed": false,
    "ExecuteTime": {
     "start_time": "2023-04-03T13:55:18.029416Z",
     "end_time": "2023-04-03T13:55:18.242288Z"
    }
   }
  },
  {
   "cell_type": "code",
   "execution_count": 125,
   "outputs": [
    {
     "data": {
      "text/plain": "count    36847.000000\nmean     11141.327652\nstd       7369.988994\nmin        500.000000\n25%       5500.000000\n50%      10000.000000\n75%      15000.000000\nmax      35000.000000\nName: loan_amnt, dtype: float64"
     },
     "execution_count": 125,
     "metadata": {},
     "output_type": "execute_result"
    }
   ],
   "source": [
    "loan['loan_amnt'].describe()"
   ],
   "metadata": {
    "collapsed": false,
    "ExecuteTime": {
     "start_time": "2023-04-03T13:55:18.243509Z",
     "end_time": "2023-04-03T13:55:18.248318Z"
    }
   }
  },
  {
   "cell_type": "code",
   "execution_count": 126,
   "outputs": [],
   "source": [
    "# Binning Loan Amount\n",
    "def bucket_loan_amnt(column):\n",
    "    if column <= 5000:\n",
    "        return '0 - 5K'  # 25% quartile\n",
    "    elif (column >5000) and (column <= 10000):\n",
    "        return '5K - 10K'\n",
    "    elif (column >10000) and (column <= 15000):\n",
    "        return '10K - 15K'\n",
    "    else:\n",
    "        return '15K - above' # 75% quartile\n",
    "\n",
    "loan['loan_amnt_b'] = loan.apply(lambda x : bucket_loan_amnt(x['loan_amnt']), axis = 1)"
   ],
   "metadata": {
    "collapsed": false,
    "ExecuteTime": {
     "start_time": "2023-04-03T13:55:18.257119Z",
     "end_time": "2023-04-03T13:55:18.535861Z"
    }
   }
  },
  {
   "cell_type": "markdown",
   "source": [
    "# Staring With Data Analysis\n",
    "We start with the analysis of the data that we have till now and see if further cleanup is needed before conduction a uni-variate and bi-variate analysis of the data."
   ],
   "metadata": {
    "collapsed": false
   }
  },
  {
   "cell_type": "code",
   "execution_count": 127,
   "outputs": [
    {
     "data": {
      "text/plain": "<Figure size 1600x600 with 1 Axes>",
      "image/png": "[encoded data removed]"
     },
     "metadata": {},
     "output_type": "display_data"
    }
   ],
   "source": [
    "# Plotting and Validating Categories\n",
    "plot.figure(figsize=(16,6))\n",
    "sea.boxplot(y=loan.loan_amnt,x=loan.loan_amnt_b)\n",
    "plot.show()"
   ],
   "metadata": {
    "collapsed": false,
    "ExecuteTime": {
     "start_time": "2023-04-03T13:55:18.541449Z",
     "end_time": "2023-04-03T13:55:18.642186Z"
    }
   }
  },
  {
   "cell_type": "markdown",
   "source": [],
   "metadata": {
    "collapsed": false
   }
  },
  {
   "cell_type": "markdown",
   "source": [
    "### Analysing the data in the `funded_amnt_inv` variable"
   ],
   "metadata": {
    "collapsed": false
   }
  },
  {
   "cell_type": "code",
   "execution_count": 128,
   "outputs": [
    {
     "data": {
      "text/plain": "count    36847.000000\nmean     10430.400868\nstd       7008.919433\nmin          0.000000\n25%       5000.000000\n50%       9000.000000\n75%      14335.045000\nmax      35000.000000\nName: funded_amnt_inv, dtype: float64"
     },
     "execution_count": 128,
     "metadata": {},
     "output_type": "execute_result"
    }
   ],
   "source": [
    "loan['funded_amnt_inv'].describe()"
   ],
   "metadata": {
    "collapsed": false,
    "ExecuteTime": {
     "start_time": "2023-04-03T13:55:18.642823Z",
     "end_time": "2023-04-03T13:55:18.651662Z"
    }
   }
  },
  {
   "cell_type": "code",
   "execution_count": 129,
   "outputs": [],
   "source": [
    "# Binning Funded Amount\n",
    "def bucket_funded_amnt_inv(column):\n",
    "    if column <= 5000:\n",
    "        return '0 - 5K'  # 25% quartile\n",
    "    elif (column >5000) and (column <= 10000):\n",
    "        return '5K - 10K'\n",
    "    elif (column >10000) and (column <= 15000):\n",
    "        return '10K - 15K'\n",
    "    else:\n",
    "        return '15K - above' # 75% quartile\n",
    "\n",
    "loan['funded_amnt_inv_b'] = loan.apply(lambda x : bucket_funded_amnt_inv(x['funded_amnt_inv']), axis = 1)"
   ],
   "metadata": {
    "collapsed": false,
    "ExecuteTime": {
     "start_time": "2023-04-03T13:55:18.651933Z",
     "end_time": "2023-04-03T13:55:18.895956Z"
    }
   }
  },
  {
   "cell_type": "markdown",
   "source": [
    "### Plotting `funded_amnt_inv` to better understand the data"
   ],
   "metadata": {
    "collapsed": false
   }
  },
  {
   "cell_type": "code",
   "execution_count": 130,
   "outputs": [
    {
     "data": {
      "text/plain": "<Figure size 1600x600 with 1 Axes>",
      "image/png": "[encoded data removed]"
     },
     "metadata": {},
     "output_type": "display_data"
    }
   ],
   "source": [
    "plot.figure(figsize=(16,6))\n",
    "sea.boxplot(y=loan.funded_amnt_inv,x=loan.funded_amnt_inv_b)\n",
    "plot.show()"
   ],
   "metadata": {
    "collapsed": false,
    "ExecuteTime": {
     "start_time": "2023-04-03T13:55:18.901875Z",
     "end_time": "2023-04-03T13:55:19.008403Z"
    }
   }
  },
  {
   "cell_type": "markdown",
   "source": [
    "### Analysing the data in the `funded_amnt` variable"
   ],
   "metadata": {
    "collapsed": false
   }
  },
  {
   "cell_type": "code",
   "execution_count": 131,
   "outputs": [
    {
     "data": {
      "text/plain": "count    36847.000000\nmean     10872.924526\nstd       7109.330771\nmin        500.000000\n25%       5400.000000\n50%       9600.000000\n75%      15000.000000\nmax      35000.000000\nName: funded_amnt, dtype: float64"
     },
     "execution_count": 131,
     "metadata": {},
     "output_type": "execute_result"
    }
   ],
   "source": [
    "loan['funded_amnt'].describe()"
   ],
   "metadata": {
    "collapsed": false,
    "ExecuteTime": {
     "start_time": "2023-04-03T13:55:19.008474Z",
     "end_time": "2023-04-03T13:55:19.014558Z"
    }
   }
  },
  {
   "cell_type": "code",
   "execution_count": 132,
   "outputs": [],
   "source": [
    "# Binning Funded Amount\n",
    "def bucket_funded_amnt(column):\n",
    "    if column <= 5000:\n",
    "        return '0 - 5K'  # 25% quartile\n",
    "    elif (column >5000) and (column <= 10000):\n",
    "        return '5K - 10K'\n",
    "    elif (column >10000) and (column <= 15000):\n",
    "        return '10K - 15K'\n",
    "    else:\n",
    "        return '15K - above' # 75% quartile\n",
    "\n",
    "loan['funded_amnt_b'] = loan.apply(lambda x : bucket_funded_amnt(x['funded_amnt']), axis = 1)"
   ],
   "metadata": {
    "collapsed": false,
    "ExecuteTime": {
     "start_time": "2023-04-03T13:55:19.020014Z",
     "end_time": "2023-04-03T13:55:19.277553Z"
    }
   }
  },
  {
   "cell_type": "markdown",
   "source": [
    "### Plotting `funded_amnt` to better understand the data"
   ],
   "metadata": {
    "collapsed": false
   }
  },
  {
   "cell_type": "code",
   "execution_count": 133,
   "outputs": [
    {
     "data": {
      "text/plain": "<Figure size 1600x600 with 1 Axes>",
      "image/png": "[encoded data removed]"
     },
     "metadata": {},
     "output_type": "display_data"
    }
   ],
   "source": [
    "# Validating Categories\n",
    "plot.figure(figsize=(16,6))\n",
    "sea.boxplot(y=loan.funded_amnt,x=loan.funded_amnt_b)\n",
    "plot.show()"
   ],
   "metadata": {
    "collapsed": false,
    "ExecuteTime": {
     "start_time": "2023-04-03T13:55:19.283563Z",
     "end_time": "2023-04-03T13:55:19.380091Z"
    }
   }
  },
  {
   "cell_type": "markdown",
   "source": [
    "### Analysing the data in the `annual_inc` variable"
   ],
   "metadata": {
    "collapsed": false
   }
  },
  {
   "cell_type": "code",
   "execution_count": 134,
   "outputs": [
    {
     "data": {
      "text/plain": "count      36.847000\nmean       69.404482\nstd        64.027473\nmin         4.000000\n25%        41.004000\n50%        60.000000\n75%        83.000000\nmax      6000.000000\nName: annual_inc, dtype: float64"
     },
     "execution_count": 134,
     "metadata": {},
     "output_type": "execute_result"
    }
   ],
   "source": [
    "loan['annual_inc'].describe() / 1000"
   ],
   "metadata": {
    "collapsed": false,
    "ExecuteTime": {
     "start_time": "2023-04-03T13:55:19.379800Z",
     "end_time": "2023-04-03T13:55:19.386162Z"
    }
   }
  },
  {
   "cell_type": "code",
   "execution_count": 135,
   "outputs": [],
   "source": [
    "# Binning Annual Income\n",
    "def bucket_annual_inc(column):\n",
    "    if column <= 40000:\n",
    "        return '0 - 40k' # 25% quartile\n",
    "    elif (column >40000) and (column <= 50000):\n",
    "        return '40k - 50k'\n",
    "    elif (column >50000) and (column <= 60000):\n",
    "        return '50k to 60k'\n",
    "    elif (column >60000) and (column <= 70000):\n",
    "        return '60k to 70k'\n",
    "    elif (column >70000) and (column <= 80000):\n",
    "        return '70k to 80k'\n",
    "    else:\n",
    "        return '80k - above' # 75% quartile\n",
    "\n",
    "loan['annual_inc_b'] = loan.apply(lambda x: bucket_annual_inc(x['annual_inc']), axis = 1)"
   ],
   "metadata": {
    "collapsed": false,
    "ExecuteTime": {
     "start_time": "2023-04-03T13:55:19.391992Z",
     "end_time": "2023-04-03T13:55:19.614269Z"
    }
   }
  },
  {
   "cell_type": "markdown",
   "source": [
    "### Analysing the data in the `int_rate` variable"
   ],
   "metadata": {
    "collapsed": false
   }
  },
  {
   "cell_type": "code",
   "execution_count": 136,
   "outputs": [
    {
     "data": {
      "text/plain": "count    36847.000000\nmean        11.988346\nstd          3.702091\nmin          5.420000\n25%          8.940000\n50%         11.860000\n75%         14.520000\nmax         24.400000\nName: int_rate, dtype: float64"
     },
     "execution_count": 136,
     "metadata": {},
     "output_type": "execute_result"
    }
   ],
   "source": [
    "loan['int_rate'].describe()"
   ],
   "metadata": {
    "collapsed": false,
    "ExecuteTime": {
     "start_time": "2023-04-03T13:55:19.615535Z",
     "end_time": "2023-04-03T13:55:19.620305Z"
    }
   }
  },
  {
   "cell_type": "code",
   "execution_count": 137,
   "outputs": [],
   "source": [
    "# Binning interest rate\n",
    "def bucket_int_rate(column):\n",
    "    if column <= 9:\n",
    "        return 'Very Low' # 25% quartile\n",
    "    elif (column >9) and (column <= 11):\n",
    "        return 'Low'\n",
    "    elif (column >11) and (column <= 13):\n",
    "        return 'Moderate'\n",
    "    elif (column >13) and (column <= 15):\n",
    "        return 'High'\n",
    "    else:\n",
    "        return 'Very High' # 75% quartile\n",
    "\n",
    "loan['int_rate_b'] = loan.apply(lambda x : bucket_int_rate(x.int_rate), axis = 1)"
   ],
   "metadata": {
    "collapsed": false,
    "ExecuteTime": {
     "start_time": "2023-04-03T13:55:19.623937Z",
     "end_time": "2023-04-03T13:55:19.949138Z"
    }
   }
  },
  {
   "cell_type": "markdown",
   "source": [
    "### Plotting `int_rate` to better understand the data"
   ],
   "metadata": {
    "collapsed": false
   }
  },
  {
   "cell_type": "code",
   "execution_count": 138,
   "outputs": [
    {
     "data": {
      "text/plain": "<Figure size 1600x600 with 1 Axes>",
      "image/png": "[encoded data removed]"
     },
     "metadata": {},
     "output_type": "display_data"
    }
   ],
   "source": [
    "# Validating Categories\n",
    "plot.figure(figsize=(16,6))\n",
    "sea.boxplot(y=loan.int_rate,x=loan.int_rate_b)\n",
    "plot.show()"
   ],
   "metadata": {
    "collapsed": false,
    "ExecuteTime": {
     "start_time": "2023-04-03T13:55:19.955201Z",
     "end_time": "2023-04-03T13:55:20.062794Z"
    }
   }
  },
  {
   "cell_type": "code",
   "execution_count": 139,
   "outputs": [],
   "source": [
    "### Analysing the data in the `dti` variable"
   ],
   "metadata": {
    "collapsed": false,
    "ExecuteTime": {
     "start_time": "2023-04-03T13:55:20.063075Z",
     "end_time": "2023-04-03T13:55:20.065021Z"
    }
   }
  },
  {
   "cell_type": "code",
   "execution_count": 140,
   "outputs": [
    {
     "data": {
      "text/plain": "count    36847.000000\nmean        13.330449\nstd          6.651565\nmin          0.000000\n25%          8.210000\n50%         13.420000\n75%         18.590000\nmax         29.990000\nName: dti, dtype: float64"
     },
     "execution_count": 140,
     "metadata": {},
     "output_type": "execute_result"
    }
   ],
   "source": [
    "loan['dti'].describe()"
   ],
   "metadata": {
    "collapsed": false,
    "ExecuteTime": {
     "start_time": "2023-04-03T13:55:20.066146Z",
     "end_time": "2023-04-03T13:55:20.071169Z"
    }
   }
  },
  {
   "cell_type": "code",
   "execution_count": 141,
   "outputs": [],
   "source": [
    "# Binning dti\n",
    "def bucket_dti(column):\n",
    "    if column <= 8:\n",
    "        return 'Very Low' # 25% quartile\n",
    "    elif (column >8) and (column <= 12):\n",
    "        return 'Low'\n",
    "    elif (column >12) and (column <= 16):\n",
    "        return 'Moderate'\n",
    "    elif (column >16) and (column <= 20):\n",
    "        return 'High'\n",
    "    else:\n",
    "        return 'Very High' # 75% quartile\n",
    "\n",
    "loan['dti_b'] = loan.apply(lambda x : bucket_dti(x.dti), axis = 1)"
   ],
   "metadata": {
    "collapsed": false,
    "ExecuteTime": {
     "start_time": "2023-04-03T13:55:20.078163Z",
     "end_time": "2023-04-03T13:55:20.366813Z"
    }
   }
  },
  {
   "cell_type": "code",
   "execution_count": 142,
   "outputs": [
    {
     "data": {
      "text/plain": "<Figure size 1600x600 with 1 Axes>",
      "image/png": "[encoded data removed]"
     },
     "metadata": {},
     "output_type": "display_data"
    }
   ],
   "source": [
    "# Validating Categories\n",
    "plot.figure(figsize=(16,6))\n",
    "sea.boxplot(y=loan.dti,x=loan.dti_b)\n",
    "plot.show()"
   ],
   "metadata": {
    "collapsed": false,
    "ExecuteTime": {
     "start_time": "2023-04-03T13:55:20.372897Z",
     "end_time": "2023-04-03T13:55:20.473273Z"
    }
   }
  },
  {
   "cell_type": "markdown",
   "source": [
    "# Re-analysing Data After the Cleanup\n",
    "This includes the following steps:\n",
    "1. Printing column info to analyse missing values, empty values in a column\n",
    "2. Displaying retained columns in the final dataset which will be used for analysis"
   ],
   "metadata": {
    "collapsed": false
   }
  },
  {
   "cell_type": "code",
   "execution_count": 143,
   "outputs": [
    {
     "name": "stdout",
     "output_type": "stream",
     "text": [
      "<class 'pandas.core.frame.DataFrame'>\n",
      "Int64Index: 36847 entries, 0 to 39680\n",
      "Data columns (total 28 columns):\n",
      " #   Column                Non-Null Count  Dtype         \n",
      "---  ------                --------------  -----         \n",
      " 0   id                    36847 non-null  int64         \n",
      " 1   loan_amnt             36847 non-null  float64       \n",
      " 2   funded_amnt           36847 non-null  float64       \n",
      " 3   funded_amnt_inv       36847 non-null  float64       \n",
      " 4   term                  36847 non-null  int64         \n",
      " 5   int_rate              36847 non-null  float64       \n",
      " 6   installment           36847 non-null  float64       \n",
      " 7   grade                 36847 non-null  object        \n",
      " 8   emp_length            36847 non-null  float64       \n",
      " 9   home_ownership        36847 non-null  object        \n",
      " 10  annual_inc            36847 non-null  float64       \n",
      " 11  verification_status   36847 non-null  object        \n",
      " 12  issue_d               36847 non-null  datetime64[ns]\n",
      " 13  loan_status           36847 non-null  object        \n",
      " 14  purpose               36847 non-null  object        \n",
      " 15  zip_code              36847 non-null  object        \n",
      " 16  addr_state            36847 non-null  object        \n",
      " 17  dti                   36847 non-null  float64       \n",
      " 18  pub_rec_bankruptcies  36847 non-null  float64       \n",
      " 19  issue_y               36847 non-null  int64         \n",
      " 20  issue_m               36847 non-null  int64         \n",
      " 21  issue_q               36847 non-null  object        \n",
      " 22  loan_amnt_b           36847 non-null  object        \n",
      " 23  funded_amnt_inv_b     36847 non-null  object        \n",
      " 24  funded_amnt_b         36847 non-null  object        \n",
      " 25  annual_inc_b          36847 non-null  object        \n",
      " 26  int_rate_b            36847 non-null  object        \n",
      " 27  dti_b                 36847 non-null  object        \n",
      "dtypes: datetime64[ns](1), float64(9), int64(4), object(14)\n",
      "memory usage: 8.2+ MB\n",
      "None\n"
     ]
    }
   ],
   "source": [
    "# Printing column info to analyse missing values, empty values in a column\n",
    "print(loan.info())"
   ],
   "metadata": {
    "collapsed": false,
    "ExecuteTime": {
     "start_time": "2023-04-03T13:55:20.519493Z",
     "end_time": "2023-04-03T13:55:20.558122Z"
    }
   }
  },
  {
   "cell_type": "code",
   "execution_count": 144,
   "outputs": [
    {
     "data": {
      "text/plain": "(36847, 28)"
     },
     "execution_count": 144,
     "metadata": {},
     "output_type": "execute_result"
    }
   ],
   "source": [
    "loan.shape"
   ],
   "metadata": {
    "collapsed": false,
    "ExecuteTime": {
     "start_time": "2023-04-03T13:55:20.531006Z",
     "end_time": "2023-04-03T13:55:20.558277Z"
    }
   }
  },
  {
   "cell_type": "code",
   "execution_count": 145,
   "outputs": [
    {
     "data": {
      "text/plain": "Index(['id', 'loan_amnt', 'funded_amnt', 'funded_amnt_inv', 'term', 'int_rate',\n       'installment', 'grade', 'emp_length', 'home_ownership', 'annual_inc',\n       'verification_status', 'issue_d', 'loan_status', 'purpose', 'zip_code',\n       'addr_state', 'dti', 'pub_rec_bankruptcies', 'issue_y', 'issue_m',\n       'issue_q', 'loan_amnt_b', 'funded_amnt_inv_b', 'funded_amnt_b',\n       'annual_inc_b', 'int_rate_b', 'dti_b'],\n      dtype='object')"
     },
     "execution_count": 145,
     "metadata": {},
     "output_type": "execute_result"
    }
   ],
   "source": [
    "loan.columns"
   ],
   "metadata": {
    "collapsed": false,
    "ExecuteTime": {
     "start_time": "2023-04-03T13:55:20.534386Z",
     "end_time": "2023-04-03T13:55:20.558365Z"
    }
   }
  },
  {
   "cell_type": "code",
   "execution_count": 146,
   "outputs": [
    {
     "data": {
      "text/plain": "Empty DataFrame\nColumns: [LoanStatNew, Description, Status]\nIndex: []",
      "text/html": "<div>\n<style scoped>\n    .dataframe tbody tr th:only-of-type {\n        vertical-align: middle;\n    }\n\n    .dataframe tbody tr th {\n        vertical-align: top;\n    }\n\n    .dataframe thead th {\n        text-align: right;\n    }\n</style>\n<table border=\"1\" class=\"dataframe\">\n  <thead>\n    <tr style=\"text-align: right;\">\n      <th></th>\n      <th>LoanStatNew</th>\n      <th>Description</th>\n      <th>Status</th>\n    </tr>\n  </thead>\n  <tbody>\n  </tbody>\n</table>\n</div>"
     },
     "execution_count": 146,
     "metadata": {},
     "output_type": "execute_result"
    }
   ],
   "source": [
    "# Displaying retained columns in the final dataset which will be used for analysis\n",
    "dict[dict['Status'] == \"Retained\"]"
   ],
   "metadata": {
    "collapsed": false,
    "ExecuteTime": {
     "start_time": "2023-04-03T13:55:20.537882Z",
     "end_time": "2023-04-03T13:55:20.558454Z"
    }
   }
  },
  {
   "cell_type": "code",
   "execution_count": 146,
   "outputs": [],
   "source": [],
   "metadata": {
    "collapsed": false,
    "ExecuteTime": {
     "start_time": "2023-04-03T13:55:20.542305Z",
     "end_time": "2023-04-03T13:55:20.558490Z"
    }
   }
  }
 ],
 "metadata": {
  "kernelspec": {
   "display_name": "Python 3 (ipykernel)",
   "language": "python",
   "name": "python3"
  },
  "language_info": {
   "codemirror_mode": {
    "name": "ipython",
    "version": 3
   },
   "file_extension": ".py",
   "mimetype": "text/x-python",
   "name": "python",
   "nbconvert_exporter": "python",
   "pygments_lexer": "ipython3",
   "version": "3.9.13"
  }
 },
 "nbformat": 4,
 "nbformat_minor": 1
}
