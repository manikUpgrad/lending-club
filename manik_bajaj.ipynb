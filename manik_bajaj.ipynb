{
 "cells": [
  {
   "cell_type": "code",
   "execution_count": null,
   "metadata": {
    "collapsed": true
   },
   "outputs": [],
   "source": [
    "import pandas as pd\n",
    "\n",
    "# Default History - Variables that depcit history of default (Red)\n",
    "# acc_now_delinq - The number of accounts on which the borrower is now delinquent.\n",
    "\n",
    "# Income - Variables related to income and cash flow (Orange)\n",
    "# avg_cur_bal - Average current balance of all accounts\n",
    "# open to buy - The difference between the credit limit assigned to a cardholder account and the present balance on the account."
   ]
  }
 ],
 "metadata": {
  "kernelspec": {
   "display_name": "Python 3",
   "language": "python",
   "name": "python3"
  },
  "language_info": {
   "codemirror_mode": {
    "name": "ipython",
    "version": 2
   },
   "file_extension": ".py",
   "mimetype": "text/x-python",
   "name": "python",
   "nbconvert_exporter": "python",
   "pygments_lexer": "ipython2",
   "version": "2.7.6"
  }
 },
 "nbformat": 4,
 "nbformat_minor": 0
}
