{
 "cells": [
  {
   "cell_type": "code",
   "execution_count": 31,
   "metadata": {},
   "outputs": [
    {
     "data": {
      "text/plain": "        id  member_id  loan_amnt  funded_amnt  funded_amnt_inv        term  \\\n0  1077501    1296599       5000         5000           4975.0   36 months   \n1  1077430    1314167       2500         2500           2500.0   60 months   \n2  1077175    1313524       2400         2400           2400.0   36 months   \n3  1076863    1277178      10000        10000          10000.0   36 months   \n4  1075358    1311748       3000         3000           3000.0   60 months   \n\n  int_rate  installment grade sub_grade  ... num_tl_90g_dpd_24m  \\\n0   10.65%       162.87     B        B2  ...                NaN   \n1   15.27%        59.83     C        C4  ...                NaN   \n2   15.96%        84.33     C        C5  ...                NaN   \n3   13.49%       339.31     C        C1  ...                NaN   \n4   12.69%        67.79     B        B5  ...                NaN   \n\n  num_tl_op_past_12m pct_tl_nvr_dlq  percent_bc_gt_75 pub_rec_bankruptcies  \\\n0                NaN            NaN               NaN                  0.0   \n1                NaN            NaN               NaN                  0.0   \n2                NaN            NaN               NaN                  0.0   \n3                NaN            NaN               NaN                  0.0   \n4                NaN            NaN               NaN                  0.0   \n\n  tax_liens tot_hi_cred_lim total_bal_ex_mort total_bc_limit  \\\n0       0.0             NaN               NaN            NaN   \n1       0.0             NaN               NaN            NaN   \n2       0.0             NaN               NaN            NaN   \n3       0.0             NaN               NaN            NaN   \n4       0.0             NaN               NaN            NaN   \n\n  total_il_high_credit_limit  \n0                        NaN  \n1                        NaN  \n2                        NaN  \n3                        NaN  \n4                        NaN  \n\n[5 rows x 111 columns]",
      "text/html": "<div>\n<style scoped>\n    .dataframe tbody tr th:only-of-type {\n        vertical-align: middle;\n    }\n\n    .dataframe tbody tr th {\n        vertical-align: top;\n    }\n\n    .dataframe thead th {\n        text-align: right;\n    }\n</style>\n<table border=\"1\" class=\"dataframe\">\n  <thead>\n    <tr style=\"text-align: right;\">\n      <th></th>\n      <th>id</th>\n      <th>member_id</th>\n      <th>loan_amnt</th>\n      <th>funded_amnt</th>\n      <th>funded_amnt_inv</th>\n      <th>term</th>\n      <th>int_rate</th>\n      <th>installment</th>\n      <th>grade</th>\n      <th>sub_grade</th>\n      <th>...</th>\n      <th>num_tl_90g_dpd_24m</th>\n      <th>num_tl_op_past_12m</th>\n      <th>pct_tl_nvr_dlq</th>\n      <th>percent_bc_gt_75</th>\n      <th>pub_rec_bankruptcies</th>\n      <th>tax_liens</th>\n      <th>tot_hi_cred_lim</th>\n      <th>total_bal_ex_mort</th>\n      <th>total_bc_limit</th>\n      <th>total_il_high_credit_limit</th>\n    </tr>\n  </thead>\n  <tbody>\n    <tr>\n      <th>0</th>\n      <td>1077501</td>\n      <td>1296599</td>\n      <td>5000</td>\n      <td>5000</td>\n      <td>4975.0</td>\n      <td>36 months</td>\n      <td>10.65%</td>\n      <td>162.87</td>\n      <td>B</td>\n      <td>B2</td>\n      <td>...</td>\n      <td>NaN</td>\n      <td>NaN</td>\n      <td>NaN</td>\n      <td>NaN</td>\n      <td>0.0</td>\n      <td>0.0</td>\n      <td>NaN</td>\n      <td>NaN</td>\n      <td>NaN</td>\n      <td>NaN</td>\n    </tr>\n    <tr>\n      <th>1</th>\n      <td>1077430</td>\n      <td>1314167</td>\n      <td>2500</td>\n      <td>2500</td>\n      <td>2500.0</td>\n      <td>60 months</td>\n      <td>15.27%</td>\n      <td>59.83</td>\n      <td>C</td>\n      <td>C4</td>\n      <td>...</td>\n      <td>NaN</td>\n      <td>NaN</td>\n      <td>NaN</td>\n      <td>NaN</td>\n      <td>0.0</td>\n      <td>0.0</td>\n      <td>NaN</td>\n      <td>NaN</td>\n      <td>NaN</td>\n      <td>NaN</td>\n    </tr>\n    <tr>\n      <th>2</th>\n      <td>1077175</td>\n      <td>1313524</td>\n      <td>2400</td>\n      <td>2400</td>\n      <td>2400.0</td>\n      <td>36 months</td>\n      <td>15.96%</td>\n      <td>84.33</td>\n      <td>C</td>\n      <td>C5</td>\n      <td>...</td>\n      <td>NaN</td>\n      <td>NaN</td>\n      <td>NaN</td>\n      <td>NaN</td>\n      <td>0.0</td>\n      <td>0.0</td>\n      <td>NaN</td>\n      <td>NaN</td>\n      <td>NaN</td>\n      <td>NaN</td>\n    </tr>\n    <tr>\n      <th>3</th>\n      <td>1076863</td>\n      <td>1277178</td>\n      <td>10000</td>\n      <td>10000</td>\n      <td>10000.0</td>\n      <td>36 months</td>\n      <td>13.49%</td>\n      <td>339.31</td>\n      <td>C</td>\n      <td>C1</td>\n      <td>...</td>\n      <td>NaN</td>\n      <td>NaN</td>\n      <td>NaN</td>\n      <td>NaN</td>\n      <td>0.0</td>\n      <td>0.0</td>\n      <td>NaN</td>\n      <td>NaN</td>\n      <td>NaN</td>\n      <td>NaN</td>\n    </tr>\n    <tr>\n      <th>4</th>\n      <td>1075358</td>\n      <td>1311748</td>\n      <td>3000</td>\n      <td>3000</td>\n      <td>3000.0</td>\n      <td>60 months</td>\n      <td>12.69%</td>\n      <td>67.79</td>\n      <td>B</td>\n      <td>B5</td>\n      <td>...</td>\n      <td>NaN</td>\n      <td>NaN</td>\n      <td>NaN</td>\n      <td>NaN</td>\n      <td>0.0</td>\n      <td>0.0</td>\n      <td>NaN</td>\n      <td>NaN</td>\n      <td>NaN</td>\n      <td>NaN</td>\n    </tr>\n  </tbody>\n</table>\n<p>5 rows × 111 columns</p>\n</div>"
     },
     "execution_count": 31,
     "metadata": {},
     "output_type": "execute_result"
    }
   ],
   "source": [
    "# Importing core libraries required for the case study\n",
    "import numpy as np\n",
    "import pandas as pd\n",
    "import matplotlib.pyplot as plot\n",
    "import seaborn as sea\n",
    "import datetime as dt\n",
    "import warnings\n",
    "\n",
    "loan = pd.read_csv('./dataset/loan.csv', low_memory=False)\n",
    "\n",
    "loan.head()"
   ]
  },
  {
   "cell_type": "markdown",
   "source": [
    "# Data Cleaning and Manipulation\n",
    "Aiming to clean and manipulate the data to finally reach a data form where we can work with the data. Will wilcude the following steps while cleaning and manipulating data.\n",
    "1. Find the number of columns which do not have any data.\n",
    "2. Drop unwanted and duplicate rows.\n",
    "3.\n"
   ],
   "metadata": {
    "collapsed": false
   }
  },
  {
   "cell_type": "markdown",
   "source": [
    "## Getting the summary of all columns which contain null values\n",
    "Print summary of Nulls, Blanks in the dataset the ine form a percentage value."
   ],
   "metadata": {
    "collapsed": false
   }
  },
  {
   "cell_type": "code",
   "execution_count": 32,
   "metadata": {},
   "outputs": [
    {
     "data": {
      "text/plain": "id                              0.000000\nmember_id                       0.000000\nloan_amnt                       0.000000\nfunded_amnt                     0.000000\nfunded_amnt_inv                 0.000000\n                                 ...    \ntax_liens                       0.098195\ntot_hi_cred_lim               100.000000\ntotal_bal_ex_mort             100.000000\ntotal_bc_limit                100.000000\ntotal_il_high_credit_limit    100.000000\nLength: 111, dtype: float64"
     },
     "execution_count": 32,
     "metadata": {},
     "output_type": "execute_result"
    }
   ],
   "source": [
    "(loan.isnull().sum() / len(loan.index) * 100)"
   ]
  },
  {
   "cell_type": "markdown",
   "source": [
    "## Removing All Rows With loan_status = \"Current\"\n",
    "Loan Status - Key Leading Attribute (loan_status). The column has three distinct values\n",
    "- Fully-Paid - The customer has successfuly paid the loan\n",
    "- Charged-Off - The customer is \"Charged-Off\" ir has \"Defaulted\"\n",
    "- Current - These customers, the loan is currently in progress and cannot contribute to conclusive evidence if the customer will default of pay in future\n",
    "**For the given case study, \"Current\" status rows will be ignored**"
   ],
   "metadata": {
    "collapsed": false
   }
  },
  {
   "cell_type": "markdown",
   "source": [],
   "metadata": {
    "collapsed": false
   }
  },
  {
   "cell_type": "code",
   "execution_count": 38,
   "outputs": [
    {
     "name": "stdout",
     "output_type": "stream",
     "text": [
      "38577\n",
      "38577\n",
      "Number of rows dropped where loan_status = 'Current': 0\n",
      "Percentage of rows dropped =  0.0 %\n"
     ]
    }
   ],
   "source": [
    "prev_rows = len(loan)\n",
    "# The rows where loan_stats=Current are the data where the loan repayment is currently in progress\n",
    "# The loans which are currently in progress will not contribute to decisions\n",
    "# of default or pass as it's difficult to predict the outcome\n",
    "#\n",
    "# Dropping the rows early as, dropping all Current rows introduces NA columns which can be easily dropped\n",
    "loan = loan[loan['loan_status'] != \"Current\"]\n",
    "\n",
    "# Print current data statistics after dropping rows with loan_status \"CURRENT\"\n",
    "curr_rows = len(loan)\n",
    "print(curr_rows)\n",
    "print(prev_rows)\n",
    "\n",
    "print(\"Number of rows dropped where loan_status = 'Current':\", (prev_rows - curr_rows))\n",
    "print(\"Percentage of rows dropped = \", round((prev_rows - curr_rows) / prev_rows * 100, 2), \"%\")"
   ],
   "metadata": {
    "collapsed": false
   }
  },
  {
   "cell_type": "markdown",
   "source": [
    "## Find any duplicate rows in the dataset"
   ],
   "metadata": {
    "collapsed": false
   }
  },
  {
   "cell_type": "code",
   "execution_count": 35,
   "outputs": [
    {
     "name": "stdout",
     "output_type": "stream",
     "text": [
      "Duplicate Rows:  0\n",
      "No action needed\n"
     ]
    }
   ],
   "source": [
    "duplicate_rows = len(loan[loan.duplicated()])\n",
    "if duplicate_rows <= 0:\n",
    "    print(\"Duplicate Rows: \", duplicate_rows)\n",
    "    print(\"No action needed\")\n",
    "else:\n",
    "    print(len(duplicate_rows))"
   ],
   "metadata": {
    "collapsed": false
   }
  },
  {
   "cell_type": "markdown",
   "source": [
    "### Dropping Columns That Have ID Values\n",
    "Dropping columns which is unique id in nature. They dont contribute to loan analysis"
   ],
   "metadata": {
    "collapsed": false
   }
  },
  {
   "cell_type": "code",
   "execution_count": 39,
   "outputs": [
    {
     "name": "stdout",
     "output_type": "stream",
     "text": [
      "member_id is unique, can be dropped\n",
      "id is unique, can be dropped\n"
     ]
    }
   ],
   "source": [
    "# Checking if member_id is unique\n",
    "if len(loan['member_id'].unique()) == loan.shape[0]:\n",
    "    print(\"member_id is unique, can be dropped\")\n",
    "    loan = loan.drop(['member_id'], axis=1)\n",
    "else:\n",
    "    print(\"member_id is not unique, dont drop\")\n",
    "\n",
    "# Checking if id is unique\n",
    "if len(loan['id'].unique()) == loan.shape[0]:\n",
    "    print(\"id is unique, can be dropped\")\n",
    "    # not dropping id as it will be used for pivot calculation later\n",
    "    # loan = loan.drop(['id'],  axis=1)\n",
    "else:\n",
    "    print(\"id is not unique, dont drop\")"
   ],
   "metadata": {
    "collapsed": false
   }
  },
  {
   "cell_type": "markdown",
   "source": [
    "### Dropping text/description columns which will not contribute to overall analysis\n",
    "These are names of establishment etc which will not contribute to loan pass or failure. The URL column is a static link with id as the attribute. It's a redundant column"
   ],
   "metadata": {
    "collapsed": false
   }
  },
  {
   "cell_type": "code",
   "execution_count": null,
   "outputs": [],
   "source": [
    "loan = loan.drop(['url', 'emp_title', 'desc', 'title'], axis=1)"
   ],
   "metadata": {
    "collapsed": false
   }
  },
  {
   "cell_type": "markdown",
   "source": [
    "# Dropping column sub_grade as the current analysis will limit to Grade only"
   ],
   "metadata": {
    "collapsed": false
   }
  },
  {
   "cell_type": "code",
   "execution_count": 40,
   "outputs": [],
   "source": [
    "loan = loan.drop(['sub_grade'], axis=1)"
   ],
   "metadata": {
    "collapsed": false
   }
  },
  {
   "cell_type": "markdown",
   "source": [
    "### Dropping all columns which refer to behavioural data of customer post loan approval\n",
    "Behaviour data of the customers are captured post the loan approval. The data is not available at the time of loan approval and thus cannot be used for calculations"
   ],
   "metadata": {
    "collapsed": false
   }
  },
  {
   "cell_type": "code",
   "execution_count": 41,
   "outputs": [],
   "source": [
    "loan = loan.drop(['delinq_2yrs', 'earliest_cr_line',\n",
    "                  'inq_last_6mths', 'open_acc', 'pub_rec',\n",
    "                  'revol_bal', 'revol_util', 'total_acc',\n",
    "                  'out_prncp', 'out_prncp_inv', 'total_pymnt',\n",
    "                  'total_pymnt_inv', 'total_rec_prncp',\n",
    "                  'total_rec_int', 'total_rec_late_fee', 'recoveries',\n",
    "                  'collection_recovery_fee', 'last_pymnt_d',\n",
    "                  'last_pymnt_amnt', 'last_credit_pull_d',\n",
    "                  'application_type'], axis=1)"
   ],
   "metadata": {
    "collapsed": false
   }
  },
  {
   "cell_type": "markdown",
   "source": [
    "### Dropping all columns whose all the values are NA\n",
    "Print all NA columns for verification"
   ],
   "metadata": {
    "collapsed": false
   }
  },
  {
   "cell_type": "code",
   "execution_count": 42,
   "outputs": [
    {
     "name": "stdout",
     "output_type": "stream",
     "text": [
      "Total columns with values NA:  55 \n",
      "\n",
      "\n",
      "Columns with all values as NA\n",
      " ['next_pymnt_d', 'mths_since_last_major_derog', 'annual_inc_joint', 'dti_joint', 'verification_status_joint', 'tot_coll_amt', 'tot_cur_bal', 'open_acc_6m', 'open_il_6m', 'open_il_12m', 'open_il_24m', 'mths_since_rcnt_il', 'total_bal_il', 'il_util', 'open_rv_12m', 'open_rv_24m', 'max_bal_bc', 'all_util', 'total_rev_hi_lim', 'inq_fi', 'total_cu_tl', 'inq_last_12m', 'acc_open_past_24mths', 'avg_cur_bal', 'bc_open_to_buy', 'bc_util', 'mo_sin_old_il_acct', 'mo_sin_old_rev_tl_op', 'mo_sin_rcnt_rev_tl_op', 'mo_sin_rcnt_tl', 'mort_acc', 'mths_since_recent_bc', 'mths_since_recent_bc_dlq', 'mths_since_recent_inq', 'mths_since_recent_revol_delinq', 'num_accts_ever_120_pd', 'num_actv_bc_tl', 'num_actv_rev_tl', 'num_bc_sats', 'num_bc_tl', 'num_il_tl', 'num_op_rev_tl', 'num_rev_accts', 'num_rev_tl_bal_gt_0', 'num_sats', 'num_tl_120dpd_2m', 'num_tl_30dpd', 'num_tl_90g_dpd_24m', 'num_tl_op_past_12m', 'pct_tl_nvr_dlq', 'percent_bc_gt_75', 'tot_hi_cred_lim', 'total_bal_ex_mort', 'total_bc_limit', 'total_il_high_credit_limit']\n"
     ]
    }
   ],
   "source": [
    "print(\"Total columns with values NA: \", len(loan.columns[loan.isna().all()].tolist()),\"\\n\\n\")\n",
    "print(\"Columns with all values as NA\\n\", loan.columns[loan.isna().all()].tolist())\n",
    "\n",
    "# Dropping all the columns whose all the records are NaN or Null\n",
    "loan = loan.dropna(axis='columns', how=\"all\")"
   ],
   "metadata": {
    "collapsed": false
   }
  },
  {
   "cell_type": "markdown",
   "source": [
    "### Dropping all columns with all zero values"
   ],
   "metadata": {
    "collapsed": false
   }
  },
  {
   "cell_type": "code",
   "execution_count": null,
   "outputs": [],
   "source": [
    "loan = loan.loc[:, (loan != 0).any(axis=0)]"
   ],
   "metadata": {
    "collapsed": false
   }
  },
  {
   "cell_type": "markdown",
   "source": [
    "### Function to Drop all columns who have constant values (ignoring NA value)\n",
    "- Example most of the columns is 1 and rest is NA, the column will be dropped\n",
    "- If we have 1,2 and NA, the column wont be dropped"
   ],
   "metadata": {
    "collapsed": false
   }
  },
  {
   "cell_type": "code",
   "execution_count": 47,
   "outputs": [
    {
     "name": "stdout",
     "output_type": "stream",
     "text": [
      "Columns with constant values with or without NA\n"
     ]
    }
   ],
   "source": [
    "print(\"Columns with constant values with or without NA\")\n",
    "def drop_constant_columns(df):\n",
    "    for c in df.columns:\n",
    "        if df[c].nunique(dropna=True) == 1:\n",
    "            print(c)\n",
    "            df = df.drop(c, axis=1)\n",
    "    return df\n",
    "\n",
    "# Drop all constant columns from df1 (definition of constant is constant value across the rows, this ignores Na values)\n",
    "loan = drop_constant_columns(loan)"
   ],
   "metadata": {
    "collapsed": false
   }
  },
  {
   "cell_type": "markdown",
   "source": [
    "### Drop Columns With More Than 65% Empty Values\n",
    "Function `drop_mostly_empty_columns` which checks the amount of empty values in a dataframe and drops the column if the amount of empty values is more than 65%. 60% is the threshhold percentage which decides imputing vs dropping."
   ],
   "metadata": {
    "collapsed": false
   }
  },
  {
   "cell_type": "code",
   "execution_count": 48,
   "outputs": [
    {
     "name": "stdout",
     "output_type": "stream",
     "text": [
      "Columns with more that 65% empty records\n"
     ]
    }
   ],
   "source": [
    "print(\"Columns with more that 65% empty records\")\n",
    "def drop_mostly_empty_columns(df):\n",
    "    total_rows = len(df)\n",
    "    for c in df.columns:\n",
    "        # Drop columns whose mean na values exceed 65%\n",
    "        if df[c].isna().mean().round(2) >= 0.65:\n",
    "            print(c)\n",
    "            df = df.drop(c, axis=1)\n",
    "    return df\n",
    "loan = drop_mostly_empty_columns(loan)"
   ],
   "metadata": {
    "collapsed": false
   }
  },
  {
   "cell_type": "markdown",
   "source": [
    "# Data Conversion\n",
    "Since we have removed unwanted data from the dataset now we can focus on data conversion. During this process we will focus on the following:\n",
    "1. Converting columns to floats where needed.\n",
    "2. Converting required columns to integers if they can be converted and exist as strings in dataset.\n",
    "3. Round off any values in the columns which have floating point values with more than 2 decimal places."
   ],
   "metadata": {
    "collapsed": false
   }
  },
  {
   "cell_type": "markdown",
   "source": [
    "#### Convert the columns loan_amnt and funded_amnt as float64"
   ],
   "metadata": {
    "collapsed": false
   }
  },
  {
   "cell_type": "code",
   "execution_count": 49,
   "outputs": [],
   "source": [
    "loan = loan.astype({'loan_amnt':'float','funded_amnt':'float'})"
   ],
   "metadata": {
    "collapsed": false
   }
  },
  {
   "cell_type": "markdown",
   "source": [
    "#### Convert the term column into an integer from a string"
   ],
   "metadata": {
    "collapsed": false
   }
  },
  {
   "cell_type": "code",
   "execution_count": 50,
   "outputs": [],
   "source": [
    "loan['term'] = loan['term'].apply(lambda x : int(x[:-7]))"
   ],
   "metadata": {
    "collapsed": false
   }
  },
  {
   "cell_type": "markdown",
   "source": [
    "#### Convert int_rate to  float by removing the \"%\" character"
   ],
   "metadata": {
    "collapsed": false
   }
  },
  {
   "cell_type": "code",
   "execution_count": 51,
   "outputs": [],
   "source": [
    "loan['int_rate'] = loan['int_rate'].apply(lambda x : float(x[:-1]))"
   ],
   "metadata": {
    "collapsed": false
   }
  },
  {
   "cell_type": "markdown",
   "source": [
    "#### Round off the values of key float fields to 2 decimal place"
   ],
   "metadata": {
    "collapsed": false
   }
  },
  {
   "cell_type": "code",
   "execution_count": 52,
   "outputs": [
    {
     "name": "stdout",
     "output_type": "stream",
     "text": [
      "Rounding columns to 2 decimal places\n",
      "loan_amnt\n",
      "funded_amnt\n",
      "funded_amnt_inv\n",
      "int_rate\n",
      "dti\n"
     ]
    }
   ],
   "source": [
    "print(\"Rounding columns to 2 decimal places\")\n",
    "for c in ['loan_amnt', 'funded_amnt', 'funded_amnt_inv', 'int_rate', 'dti']:\n",
    "    print(c)\n",
    "    loan[c] = loan[c].apply(lambda x: round(x,2))"
   ],
   "metadata": {
    "collapsed": false
   }
  },
  {
   "cell_type": "markdown",
   "source": [
    "#### Converting the loan_status to boolean column.\n",
    "\"Fully-Paid is True and Charged Off is False\"\n",
    "- Added a function instead of lambda because, if this is accidentally re-run on a boolean column, the logic broke\n",
    "- Now it will only convert to boolean if the column is a string and has the two specific values"
   ],
   "metadata": {
    "collapsed": false
   }
  },
  {
   "cell_type": "code",
   "execution_count": 53,
   "outputs": [],
   "source": [
    "def convert_loan_status_to_boolean(x):\n",
    "    if x == \"Fully Paid\":\n",
    "        return True\n",
    "    elif x == \"Charged Off\":\n",
    "        return False\n",
    "    else:\n",
    "        return x"
   ],
   "metadata": {
    "collapsed": false
   }
  },
  {
   "cell_type": "code",
   "execution_count": 54,
   "outputs": [],
   "source": [
    "# Converting the column issue_d from string object to DateTime\n",
    "loan['issue_d'] = pd.to_datetime(loan['issue_d'], format='%b-%y')"
   ],
   "metadata": {
    "collapsed": false
   }
  },
  {
   "cell_type": "markdown",
   "source": [
    "### Deciding to Impute Or Drop Columns\n",
    "Evaluating the percentage of rows with blank values for both the columns. If the total percentage is less than 5% will take an option of dropping the columns vs imputing."
   ],
   "metadata": {
    "collapsed": false
   }
  },
  {
   "cell_type": "code",
   "execution_count": 55,
   "outputs": [
    {
     "name": "stdout",
     "output_type": "stream",
     "text": [
      "emp_length blank rows 1033\n",
      "pub_rec_bankruptcies blank rows 697 \n",
      "\n",
      "emp_title 6.19 %\n",
      "emp_length 2.68 %\n",
      "desc 32.47 %\n",
      "title 0.03 %\n",
      "pub_rec_bankruptcies 1.81 %\n",
      "\n",
      "Total rows percentage whose columns are blank:  43.17 %\n"
     ]
    }
   ],
   "source": [
    "# Identify columns who have blank values and what percentage of total values are there blanks.\n",
    "# These values may need to be imputed\n",
    "print('emp_length blank rows', loan['emp_length'].isna().sum())\n",
    "print('pub_rec_bankruptcies blank rows', loan['pub_rec_bankruptcies'].isna().sum(), \"\\n\")\n",
    "imp_total = 0\n",
    "for c in loan.columns[loan.isna().any()].tolist():\n",
    "    imp_val = len(loan[loan[c].isna()]) / len(loan) * 100\n",
    "    imp_total += imp_val\n",
    "    print(c, round(imp_val, 2),\"%\")\n",
    "print(\"\\nTotal rows percentage whose columns are blank: \", round(imp_total ,2), \"%\")"
   ],
   "metadata": {
    "collapsed": false
   }
  },
  {
   "cell_type": "markdown",
   "source": [
    "#### Converting emp_length to integer values\n",
    "Converting emp_length as numerical data to create more effective statistical analysis as compared to nominal values\n"
   ],
   "metadata": {
    "collapsed": false
   }
  },
  {
   "cell_type": "code",
   "execution_count": 56,
   "outputs": [],
   "source": [
    "loan['emp_length'] = loan['emp_length'].replace({'< 1 year': 0, '2 years': 2, '3 years': 3,\n",
    "                                                 '7 years': 7, '4 years': 4, '5 years': 5,\n",
    "                                                 '1 year': 1, '6 years': 6, '8 years': 8,\n",
    "                                                 '9 years': 9,  '10+ years': 10})"
   ],
   "metadata": {
    "collapsed": false
   }
  },
  {
   "cell_type": "code",
   "execution_count": null,
   "outputs": [],
   "source": [
    "# Save the current dimensions of the dataframe in a variable rows_before\n",
    "rows_before = len(loan)"
   ],
   "metadata": {
    "collapsed": false
   }
  },
  {
   "cell_type": "markdown",
   "source": [
    "# Drop rows with empty values in this scenario\n",
    "Since the percent of rows is very small, dropping the rows instead of imputing them"
   ],
   "metadata": {
    "collapsed": false
   }
  },
  {
   "cell_type": "code",
   "execution_count": 58,
   "outputs": [
    {
     "data": {
      "text/plain": "10.0    8369\n0.0     4341\n2.0     4207\n3.0     3951\n4.0     3297\n5.0     3161\n1.0     3077\n6.0     2136\n7.0     1689\n8.0     1410\n9.0     1209\nName: emp_length, dtype: int64"
     },
     "execution_count": 58,
     "metadata": {},
     "output_type": "execute_result"
    }
   ],
   "source": [
    "loan = loan[loan['emp_length'].notna()]\n",
    "loan = loan[loan['pub_rec_bankruptcies'].notna()]\n",
    "\n",
    "# Checking if blanks exist\n",
    "loan['emp_length'].value_counts()"
   ],
   "metadata": {
    "collapsed": false
   }
  },
  {
   "cell_type": "code",
   "execution_count": 59,
   "outputs": [
    {
     "name": "stdout",
     "output_type": "stream",
     "text": [
      "Number of rows dropped = , 1730\n",
      "Percentage of rows dropped =  4.48 %\n",
      "(36847, 23)\n"
     ]
    }
   ],
   "source": [
    "# Print the dimensions of the dataframe after dropping rows\n",
    "rows_after = len(loan)\n",
    "print(\"Number of rows dropped = ,\", (rows_before - rows_after))\n",
    "print(\"Percentage of rows dropped = \", round((rows_before - rows_after)/rows_before*100,2),\"%\")\n",
    "print(loan.shape)"
   ],
   "metadata": {
    "collapsed": false
   }
  },
  {
   "cell_type": "markdown",
   "source": [
    "## Deriving Additional Columns\n",
    "Adding additional column for Year and Month for analysis extrating Year and Month from issue_d"
   ],
   "metadata": {
    "collapsed": false
   }
  }
 ],
 "metadata": {
  "kernelspec": {
   "display_name": "Python 3 (ipykernel)",
   "language": "python",
   "name": "python3"
  },
  "language_info": {
   "codemirror_mode": {
    "name": "ipython",
    "version": 3
   },
   "file_extension": ".py",
   "mimetype": "text/x-python",
   "name": "python",
   "nbconvert_exporter": "python",
   "pygments_lexer": "ipython3",
   "version": "3.9.13"
  }
 },
 "nbformat": 4,
 "nbformat_minor": 1
}
